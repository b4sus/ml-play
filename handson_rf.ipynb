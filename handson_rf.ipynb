{
 "cells": [
  {
   "cell_type": "code",
   "execution_count": 1,
   "id": "b9458d69",
   "metadata": {},
   "outputs": [],
   "source": [
    "import pickle\n",
    "import os.path\n",
    "\n",
    "import numpy as np\n",
    "from sklearn.datasets import fetch_openml\n",
    "from sklearn.model_selection import ShuffleSplit\n",
    "from sklearn.svm import LinearSVC, SVC\n",
    "from sklearn.ensemble import RandomForestClassifier, VotingClassifier\n",
    "from sklearn.linear_model import LogisticRegression\n",
    "from sklearn.tree import ExtraTreeClassifier\n",
    "from sklearn.metrics import accuracy_score"
   ]
  },
  {
   "cell_type": "code",
   "execution_count": 2,
   "id": "c3da4c65",
   "metadata": {},
   "outputs": [],
   "source": [
    "def open_mnist_or_download_if_missing():\n",
    "    \n",
    "    if os.path.exists(\"data/mnist/mnist.pickle\"):\n",
    "        print(\"Using local mnist\")\n",
    "        with open(\"data/mnist/mnist.pickle\", mode=\"rb\") as fp:\n",
    "            mnist = pickle.load(fp)\n",
    "    else:\n",
    "        print(\"Downloading mnist\")\n",
    "        mnist = fetch_openml(\"mnist_784\", version=1)\n",
    "        with open(\"data/mnist/mnist.pickle\", mode=\"wb\") as fp:\n",
    "            pickle.dump(mnist, fp)\n",
    "    mnist.target = mnist.target.astype(np.uint8)\n",
    "    return mnist"
   ]
  },
  {
   "cell_type": "code",
   "execution_count": 3,
   "id": "e6041a9a",
   "metadata": {},
   "outputs": [
    {
     "name": "stdout",
     "output_type": "stream",
     "text": [
      "Using local mnist\n"
     ]
    }
   ],
   "source": [
    "random_state = 65\n",
    "\n",
    "mnist = open_mnist_or_download_if_missing()\n",
    "\n",
    "train_idx, test_idx = next(\n",
    "    ShuffleSplit(n_splits=1, train_size=60000, random_state=random_state).split(mnist.data, mnist.target))\n",
    "train_idx, cv_idx = next(\n",
    "    ShuffleSplit(n_splits=1, train_size=50000, random_state=random_state).split(mnist.data.iloc[train_idx],\n",
    "                                                                                mnist.target.iloc[train_idx]))\n",
    "\n",
    "X_train = mnist.data.iloc[train_idx]\n",
    "y_train = mnist.target.iloc[train_idx]\n",
    "\n",
    "X_cv = mnist.data.iloc[cv_idx]\n",
    "y_cv = mnist.target.iloc[cv_idx]\n",
    "\n",
    "X_test = mnist.data.iloc[test_idx]\n",
    "y_test = mnist.target.iloc[test_idx]"
   ]
  },
  {
   "cell_type": "code",
   "execution_count": 4,
   "id": "7991b1a1",
   "metadata": {},
   "outputs": [
    {
     "name": "stdout",
     "output_type": "stream",
     "text": [
      "Training LinearSVC(max_iter=100, random_state=65)\n"
     ]
    },
    {
     "name": "stderr",
     "output_type": "stream",
     "text": [
      "C:\\Users\\Juraj\\miniconda3\\envs\\py310\\lib\\site-packages\\sklearn\\svm\\_base.py:1206: ConvergenceWarning: Liblinear failed to converge, increase the number of iterations.\n",
      "  warnings.warn(\n"
     ]
    },
    {
     "name": "stdout",
     "output_type": "stream",
     "text": [
      "Training RandomForestClassifier(random_state=65)\n",
      "Training LogisticRegression(random_state=65)\n"
     ]
    },
    {
     "name": "stderr",
     "output_type": "stream",
     "text": [
      "C:\\Users\\Juraj\\miniconda3\\envs\\py310\\lib\\site-packages\\sklearn\\linear_model\\_logistic.py:814: ConvergenceWarning: lbfgs failed to converge (status=1):\n",
      "STOP: TOTAL NO. of ITERATIONS REACHED LIMIT.\n",
      "\n",
      "Increase the number of iterations (max_iter) or scale the data as shown in:\n",
      "    https://scikit-learn.org/stable/modules/preprocessing.html\n",
      "Please also refer to the documentation for alternative solver options:\n",
      "    https://scikit-learn.org/stable/modules/linear_model.html#logistic-regression\n",
      "  n_iter_i = _check_optimize_result(\n"
     ]
    },
    {
     "name": "stdout",
     "output_type": "stream",
     "text": [
      "Training ExtraTreeClassifier(random_state=65)\n",
      "Classifiers:[LinearSVC(max_iter=100, random_state=65), RandomForestClassifier(random_state=65), LogisticRegression(random_state=65), ExtraTreeClassifier(random_state=65)]\n",
      "Scores: [0.8575, 0.9672, 0.9214, 0.8135]\n"
     ]
    }
   ],
   "source": [
    "linear_svc_clf = LinearSVC(max_iter=100, random_state=random_state)\n",
    "rf_clf = RandomForestClassifier(random_state=random_state)\n",
    "lr_clf = LogisticRegression(random_state=random_state)\n",
    "extra_tree_clf = ExtraTreeClassifier(random_state=random_state)\n",
    "classifiers = [linear_svc_clf, rf_clf, lr_clf, extra_tree_clf]\n",
    "\n",
    "for clf in classifiers:\n",
    "    print(f\"Training {clf}\")\n",
    "    clf.fit(X_train, y_train)\n",
    "\n",
    "print(f\"Classifiers:{classifiers}\")\n",
    "print(f\"Scores: {[clf.score(X_cv, y_cv) for clf in classifiers]}\")"
   ]
  },
  {
   "cell_type": "code",
   "execution_count": 5,
   "id": "4523c989",
   "metadata": {},
   "outputs": [
    {
     "name": "stderr",
     "output_type": "stream",
     "text": [
      "C:\\Users\\Juraj\\miniconda3\\envs\\py310\\lib\\site-packages\\sklearn\\linear_model\\_logistic.py:814: ConvergenceWarning: lbfgs failed to converge (status=1):\n",
      "STOP: TOTAL NO. of ITERATIONS REACHED LIMIT.\n",
      "\n",
      "Increase the number of iterations (max_iter) or scale the data as shown in:\n",
      "    https://scikit-learn.org/stable/modules/preprocessing.html\n",
      "Please also refer to the documentation for alternative solver options:\n",
      "    https://scikit-learn.org/stable/modules/linear_model.html#logistic-regression\n",
      "  n_iter_i = _check_optimize_result(\n"
     ]
    },
    {
     "data": {
      "text/plain": [
       "VotingClassifier(estimators=[('random_forest',\n",
       "                              RandomForestClassifier(random_state=65)),\n",
       "                             ('logistic_regression',\n",
       "                              LogisticRegression(random_state=65)),\n",
       "                             ('extra_tree',\n",
       "                              ExtraTreeClassifier(random_state=65))])"
      ]
     },
     "execution_count": 5,
     "metadata": {},
     "output_type": "execute_result"
    }
   ],
   "source": [
    "named_estimators = [(\"random_forest\", rf_clf), (\"logistic_regression\", lr_clf),\n",
    "                    (\"extra_tree\", extra_tree_clf)]\n",
    "voting_clf = VotingClassifier(named_estimators)\n",
    "voting_clf.fit(X_train, y_train)"
   ]
  },
  {
   "cell_type": "code",
   "execution_count": 6,
   "id": "5b1ba8c4",
   "metadata": {},
   "outputs": [
    {
     "name": "stdout",
     "output_type": "stream",
     "text": [
      "hard voting classifier score: 0.9491\n",
      "[RandomForestClassifier(random_state=65), LogisticRegression(random_state=65), ExtraTreeClassifier(random_state=65)]\n",
      "Scores: [0.9672, 0.9214, 0.8135]\n"
     ]
    }
   ],
   "source": [
    "print(f\"hard voting classifier score: {voting_clf.score(X_cv, y_cv)}\")\n",
    "print(voting_clf.estimators_)\n",
    "print(f\"Scores: {[clf.score(X_cv, y_cv) for clf in voting_clf.estimators_]}\")"
   ]
  },
  {
   "cell_type": "code",
   "execution_count": 7,
   "id": "cf9fe841",
   "metadata": {},
   "outputs": [
    {
     "name": "stdout",
     "output_type": "stream",
     "text": [
      "soft voting classifier score: 0.931\n"
     ]
    }
   ],
   "source": [
    "voting_clf.voting = \"soft\"\n",
    "print(f\"soft voting classifier score: {voting_clf.score(X_cv, y_cv)}\")"
   ]
  },
  {
   "cell_type": "code",
   "execution_count": 8,
   "id": "0fa37d43",
   "metadata": {},
   "outputs": [
    {
     "name": "stdout",
     "output_type": "stream",
     "text": [
      "hard voting classifier test score: 0.9784\n"
     ]
    }
   ],
   "source": [
    "voting_clf.voting = \"hard\"\n",
    "print(f\"hard voting classifier test score: {voting_clf.score(X_test, y_test)}\")"
   ]
  },
  {
   "cell_type": "code",
   "execution_count": 9,
   "id": "75807874",
   "metadata": {},
   "outputs": [
    {
     "name": "stdout",
     "output_type": "stream",
     "text": [
      "Scores: [0.9867, 0.9321, 0.9217]\n"
     ]
    }
   ],
   "source": [
    "print(f\"Scores: {[clf.score(X_test, y_test) for clf in voting_clf.estimators_]}\")"
   ]
  },
  {
   "cell_type": "code",
   "execution_count": 10,
   "id": "9a0215af",
   "metadata": {
    "scrolled": true
   },
   "outputs": [
    {
     "data": {
      "text/plain": [
       "(10000, 4)"
      ]
     },
     "execution_count": 10,
     "metadata": {},
     "output_type": "execute_result"
    }
   ],
   "source": [
    "y_cv_pred = np.empty((len(X_cv), len(classifiers)))\n",
    "y_cv_pred.shape"
   ]
  },
  {
   "cell_type": "code",
   "execution_count": 17,
   "id": "5459b779",
   "metadata": {},
   "outputs": [],
   "source": [
    "for idx, clf in enumerate(classifiers):\n",
    "    y_cv_pred[:, idx] = clf.predict(X_cv)"
   ]
  },
  {
   "cell_type": "code",
   "execution_count": 19,
   "id": "988d8b2e",
   "metadata": {},
   "outputs": [
    {
     "data": {
      "text/plain": [
       "46340    7\n",
       "5153     3\n",
       "10982    1\n",
       "25666    1\n",
       "32055    1\n",
       "        ..\n",
       "3525     5\n",
       "14322    8\n",
       "17478    4\n",
       "57856    3\n",
       "7        3\n",
       "Name: class, Length: 10000, dtype: uint8"
      ]
     },
     "execution_count": 19,
     "metadata": {},
     "output_type": "execute_result"
    }
   ],
   "source": []
  },
  {
   "cell_type": "code",
   "execution_count": 20,
   "id": "f1292b3e",
   "metadata": {},
   "outputs": [
    {
     "data": {
      "text/plain": [
       "RandomForestClassifier(random_state=65)"
      ]
     },
     "execution_count": 20,
     "metadata": {},
     "output_type": "execute_result"
    }
   ],
   "source": [
    "blender = RandomForestClassifier(random_state=65)\n",
    "blender.fit(y_cv_pred, y_cv)"
   ]
  },
  {
   "cell_type": "code",
   "execution_count": 21,
   "id": "c470e22d",
   "metadata": {},
   "outputs": [
    {
     "data": {
      "text/plain": [
       "(10000, 4)"
      ]
     },
     "execution_count": 21,
     "metadata": {},
     "output_type": "execute_result"
    }
   ],
   "source": [
    "y_test_pred = np.empty((len(X_test), len(classifiers)))\n",
    "y_test_pred.shape"
   ]
  },
  {
   "cell_type": "code",
   "execution_count": 23,
   "id": "f1e0065c",
   "metadata": {},
   "outputs": [],
   "source": [
    "for idx, clf in enumerate(classifiers):\n",
    "    y_test_pred[:, idx] = clf.predict(X_test)"
   ]
  },
  {
   "cell_type": "code",
   "execution_count": 25,
   "id": "d5b03bc6",
   "metadata": {},
   "outputs": [
    {
     "data": {
      "text/plain": [
       "0.9864"
      ]
     },
     "execution_count": 25,
     "metadata": {},
     "output_type": "execute_result"
    }
   ],
   "source": [
    "blender.score(y_test_pred, y_test)"
   ]
  },
  {
   "cell_type": "code",
   "execution_count": null,
   "id": "c0f41428",
   "metadata": {},
   "outputs": [],
   "source": []
  }
 ],
 "metadata": {
  "kernelspec": {
   "display_name": "Python 3 (ipykernel)",
   "language": "python",
   "name": "python3"
  },
  "language_info": {
   "codemirror_mode": {
    "name": "ipython",
    "version": 3
   },
   "file_extension": ".py",
   "mimetype": "text/x-python",
   "name": "python",
   "nbconvert_exporter": "python",
   "pygments_lexer": "ipython3",
   "version": "3.10.0"
  }
 },
 "nbformat": 4,
 "nbformat_minor": 5
}
