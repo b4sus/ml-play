{
 "cells": [
  {
   "cell_type": "code",
   "execution_count": null,
   "id": "d287f0bf",
   "metadata": {},
   "outputs": [],
   "source": [
    "import matplotlib.pyplot as plt\n",
    "import numpy as np\n",
    "import pandas as pd\n",
    "from sklearn.datasets import fetch_olivetti_faces\n",
    "from sklearn.decomposition import PCA\n",
    "from sklearn.cluster import KMeans\n",
    "from sklearn.metrics import silhouette_score, accuracy_score\n",
    "from sklearn.mixture import GaussianMixture\n",
    "from sklearn.model_selection import GridSearchCV\n",
    "from sklearn.pipeline import make_pipeline\n",
    "from sklearn.svm import SVC\n",
    "from utils import shuffle_split\n",
    "\n",
    "%matplotlib inline\n",
    "plt.rcParams[\"figure.figsize\"] = (15, 10)"
   ]
  },
  {
   "cell_type": "code",
   "execution_count": null,
   "id": "b9c9ce4e",
   "metadata": {},
   "outputs": [],
   "source": [
    "faces = fetch_olivetti_faces()"
   ]
  },
  {
   "cell_type": "code",
   "execution_count": null,
   "id": "7f08f915",
   "metadata": {},
   "outputs": [],
   "source": [
    "X_train, y_train, X_test, y_test = shuffle_split(faces.data, faces.target, 0.8)\n",
    "X_cv, y_cv, X_test, y_test = shuffle_split(X_test, y_test, 0.5)\n",
    "len(X_train)"
   ]
  },
  {
   "cell_type": "code",
   "execution_count": null,
   "id": "960f681f",
   "metadata": {},
   "outputs": [],
   "source": [
    "plt.hist(y_train, rwidth=0.9, bins=40)"
   ]
  },
  {
   "cell_type": "code",
   "execution_count": null,
   "id": "b8dbe3c3",
   "metadata": {},
   "outputs": [],
   "source": [
    "kms = []\n",
    "for i in range(2, 150):\n",
    "    km = KMeans(n_clusters=i)\n",
    "    km.fit(X_train)\n",
    "    kms.append(km)"
   ]
  },
  {
   "cell_type": "code",
   "execution_count": null,
   "id": "525a8cb2",
   "metadata": {},
   "outputs": [],
   "source": [
    "inertias = [km.inertia_ for km in kms]"
   ]
  },
  {
   "cell_type": "code",
   "execution_count": null,
   "id": "39be0df5",
   "metadata": {},
   "outputs": [],
   "source": [
    "plt.plot(range(2, 150), inertias, \"-o\")"
   ]
  },
  {
   "cell_type": "markdown",
   "id": "f6a17114",
   "metadata": {},
   "source": [
    "Hm, this is not very helpful, let's try the silhouette score"
   ]
  },
  {
   "cell_type": "code",
   "execution_count": null,
   "id": "e9ef8eac",
   "metadata": {},
   "outputs": [],
   "source": [
    "scores = [silhouette_score(X_train, km.labels_) for km in kms]\n",
    "plt.plot(range(2, 150), scores, \"-o\")"
   ]
  },
  {
   "cell_type": "code",
   "execution_count": null,
   "id": "3c539753",
   "metadata": {},
   "outputs": [],
   "source": [
    "best_km_idx = np.argmax(scores)\n",
    "print(best_km_idx)"
   ]
  },
  {
   "cell_type": "code",
   "execution_count": null,
   "id": "1c814f31",
   "metadata": {},
   "outputs": [],
   "source": [
    "best_km = kms[best_km_idx]"
   ]
  },
  {
   "cell_type": "code",
   "execution_count": null,
   "id": "e25b9b0b",
   "metadata": {},
   "outputs": [],
   "source": [
    "y_train_pred = best_km.predict(X_train)"
   ]
  },
  {
   "cell_type": "code",
   "execution_count": null,
   "id": "e1050a9a",
   "metadata": {},
   "outputs": [],
   "source": [
    "def plot_clusters(X, y, n_cols=5):\n",
    "    for cluster in range(np.min(y), np.max(y) + 1):\n",
    "        images_idx = np.where(y == cluster)        \n",
    "        images = X[images_idx]\n",
    "        if len(images) == 0:\n",
    "            continue\n",
    "        fig = plt.figure(edgecolor=\"black\", linewidth=1)\n",
    "        fig.supylabel(f\"Cluser {cluster}\")\n",
    "        n_rows = len(images) // n_cols + 1\n",
    "        for i in range(len(images)):\n",
    "            ax = fig.add_subplot(n_rows, n_cols, i + 1)\n",
    "            ax.imshow(images[i].reshape((64, -1)))"
   ]
  },
  {
   "cell_type": "code",
   "execution_count": null,
   "id": "2d1369f6",
   "metadata": {},
   "outputs": [],
   "source": [
    "plot_clusters(X_train, y_train_pred)"
   ]
  },
  {
   "cell_type": "markdown",
   "id": "d4062e19",
   "metadata": {},
   "source": [
    "# 11"
   ]
  },
  {
   "cell_type": "code",
   "execution_count": null,
   "id": "b3212746",
   "metadata": {},
   "outputs": [],
   "source": [
    "clf = SVC()\n",
    "clf.fit(X_train, y_train)"
   ]
  },
  {
   "cell_type": "code",
   "execution_count": null,
   "id": "6d3a8f3f",
   "metadata": {},
   "outputs": [],
   "source": [
    "accuracy_score(y_cv, clf.predict(X_cv))"
   ]
  },
  {
   "cell_type": "code",
   "execution_count": null,
   "id": "6c54eafe",
   "metadata": {},
   "outputs": [],
   "source": [
    "clf.fit(best_km.transform(X_train), y_train)"
   ]
  },
  {
   "cell_type": "code",
   "execution_count": null,
   "id": "d9e643d9",
   "metadata": {},
   "outputs": [],
   "source": [
    "clf.score(best_km.transform(X_cv), y_cv)"
   ]
  },
  {
   "cell_type": "code",
   "execution_count": null,
   "id": "cc1c7f03",
   "metadata": {},
   "outputs": [],
   "source": [
    "for n_clusters in range (50, 150):\n",
    "    km = KMeans(n_clusters)\n",
    "    km.fit(X_train)\n",
    "    X_train_ext = np.hstack((X_train, km.transform(X_train)))\n",
    "    clf_ext = SVC()\n",
    "    clf_ext.fit(X_train_ext, y_train)\n",
    "    X_cv_ext = np.hstack((X_cv, km.transform(X_cv)))\n",
    "    print(f\"Score for {n_clusters} cluster extension: {clf_ext.score(X_cv_ext, y_cv)}\")"
   ]
  },
  {
   "cell_type": "markdown",
   "id": "60faa182",
   "metadata": {},
   "source": [
    "# 12"
   ]
  },
  {
   "cell_type": "code",
   "execution_count": null,
   "id": "ba7e35c5",
   "metadata": {},
   "outputs": [],
   "source": [
    "gm_pipeline = make_pipeline(PCA(0.99), GaussianMixture())\n",
    "gm = GaussianMixture()\n",
    "gm.fit(X_train)"
   ]
  },
  {
   "cell_type": "code",
   "execution_count": null,
   "id": "5b5b4045",
   "metadata": {},
   "outputs": [],
   "source": [
    "X_sample, y_sample = gm.sample(10)"
   ]
  },
  {
   "cell_type": "code",
   "execution_count": null,
   "id": "8b5cc5de",
   "metadata": {},
   "outputs": [],
   "source": [
    "for i in range(len(X_sample)):\n",
    "    fig, ax = plt.subplots()\n",
    "    ax.imshow(X_sample[i, :].reshape((64, -1)))"
   ]
  },
  {
   "cell_type": "code",
   "execution_count": null,
   "id": "864b8369",
   "metadata": {},
   "outputs": [],
   "source": [
    "gm.score_samples(X_train[:10])"
   ]
  },
  {
   "cell_type": "code",
   "execution_count": null,
   "id": "d276f052",
   "metadata": {},
   "outputs": [],
   "source": [
    "n_rotated = 4\n",
    "rotated = np.transpose(X_train[:n_rotated].reshape(-1, 64, 64), axes=[0, 2, 1])\n",
    "rotated = rotated.reshape(-1, 64*64)\n",
    "y_rotated = y_train[:n_rotated]\n",
    "\n",
    "n_flipped = 3\n",
    "flipped = X_train[:n_flipped].reshape(-1, 64, 64)[:, ::-1]\n",
    "flipped = flipped.reshape(-1, 64*64)\n",
    "y_flipped = y_train[:n_flipped]\n",
    "\n",
    "n_darkened = 3\n",
    "darkened = X_train[:n_darkened].copy()\n",
    "darkened[:, 1:-1] *= 0.3\n",
    "y_darkened = y_train[:n_darkened]\n",
    "\n",
    "X_bad_faces = np.r_[rotated, flipped, darkened]\n",
    "y_bad = np.concatenate([y_rotated, y_flipped, y_darkened])\n",
    "\n",
    "plot_clusters(X_bad_faces, y_bad)"
   ]
  },
  {
   "cell_type": "code",
   "execution_count": null,
   "id": "c93849d0",
   "metadata": {},
   "outputs": [],
   "source": [
    "gm.score_samples(X_bad_faces).mean()"
   ]
  },
  {
   "cell_type": "code",
   "execution_count": null,
   "id": "db7dd1c2",
   "metadata": {},
   "outputs": [],
   "source": [
    "gm.score_samples(X_test).mean()"
   ]
  }
 ],
 "metadata": {
  "kernelspec": {
   "display_name": "Python 3 (ipykernel)",
   "language": "python",
   "name": "python3"
  },
  "language_info": {
   "codemirror_mode": {
    "name": "ipython",
    "version": 3
   },
   "file_extension": ".py",
   "mimetype": "text/x-python",
   "name": "python",
   "nbconvert_exporter": "python",
   "pygments_lexer": "ipython3",
   "version": "3.10.2"
  }
 },
 "nbformat": 4,
 "nbformat_minor": 5
}
