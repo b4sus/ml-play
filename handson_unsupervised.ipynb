{
 "cells": [
  {
   "cell_type": "code",
   "execution_count": null,
   "id": "d287f0bf",
   "metadata": {},
   "outputs": [],
   "source": [
    "import matplotlib.pyplot as plt\n",
    "import pandas as pd\n",
    "from sklearn.datasets import fetch_olivetti_faces\n",
    "from sklearn.cluster import KMeans\n",
    "from sklearn.metrics import silhouette_score\n",
    "from utils import shuffle_split\n",
    "\n",
    "%matplotlib inline\n",
    "plt.rcParams[\"figure.figsize\"] = (15, 10)"
   ]
  },
  {
   "cell_type": "code",
   "execution_count": null,
   "id": "b9c9ce4e",
   "metadata": {},
   "outputs": [],
   "source": [
    "faces = fetch_olivetti_faces()"
   ]
  },
  {
   "cell_type": "code",
   "execution_count": null,
   "id": "7f08f915",
   "metadata": {},
   "outputs": [],
   "source": [
    "X_train, y_train, X_test, y_test = shuffle_split(faces.data, faces.target, 0.8)\n",
    "X_cv, y_cv, X_test, y_test = shuffle_split(X_test, y_test, 0.5)\n",
    "len(X_train)"
   ]
  },
  {
   "cell_type": "code",
   "execution_count": null,
   "id": "960f681f",
   "metadata": {},
   "outputs": [],
   "source": [
    "plt.hist(y_train, rwidth=0.9, bins=40)"
   ]
  },
  {
   "cell_type": "code",
   "execution_count": null,
   "id": "b8dbe3c3",
   "metadata": {},
   "outputs": [],
   "source": [
    "kms = []\n",
    "for i in range(2, 150):\n",
    "    km = KMeans(n_clusters=i)\n",
    "    km.fit(X_train)\n",
    "    kms.append(km)"
   ]
  },
  {
   "cell_type": "code",
   "execution_count": null,
   "id": "525a8cb2",
   "metadata": {},
   "outputs": [],
   "source": [
    "inertias = [km.inertia_ for km in kms]"
   ]
  },
  {
   "cell_type": "code",
   "execution_count": null,
   "id": "39be0df5",
   "metadata": {},
   "outputs": [],
   "source": [
    "plt.plot(range(2, 150), inertias, \"-o\")"
   ]
  },
  {
   "cell_type": "markdown",
   "id": "f6a17114",
   "metadata": {},
   "source": [
    "Hm, this is not very helpful, let's try the silhouette score"
   ]
  },
  {
   "cell_type": "code",
   "execution_count": null,
   "id": "e9ef8eac",
   "metadata": {},
   "outputs": [],
   "source": [
    "scores = [silhouette_score(X_train, km.labels_) for km in kms]\n",
    "plt.plot(range(2, 150), scores, \"-o\")"
   ]
  },
  {
   "cell_type": "code",
   "execution_count": null,
   "id": "3c539753",
   "metadata": {},
   "outputs": [],
   "source": []
  }
 ],
 "metadata": {
  "kernelspec": {
   "display_name": "Python 3 (ipykernel)",
   "language": "python",
   "name": "python3"
  },
  "language_info": {
   "codemirror_mode": {
    "name": "ipython",
    "version": 3
   },
   "file_extension": ".py",
   "mimetype": "text/x-python",
   "name": "python",
   "nbconvert_exporter": "python",
   "pygments_lexer": "ipython3",
   "version": "3.10.2"
  }
 },
 "nbformat": 4,
 "nbformat_minor": 5
}
