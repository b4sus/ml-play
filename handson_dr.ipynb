{
 "cells": [
  {
   "cell_type": "code",
   "execution_count": null,
   "id": "6b072cca",
   "metadata": {},
   "outputs": [],
   "source": [
    "import time\n",
    "\n",
    "import matplotlib.pyplot as plt\n",
    "from matplotlib.colors import Normalize\n",
    "from sklearn.decomposition import PCA\n",
    "from sklearn.ensemble import RandomForestClassifier\n",
    "from sklearn.manifold import TSNE, MDS, LocallyLinearEmbedding\n",
    "from sklearn.metrics import accuracy_score\n",
    "from sklearn.pipeline import make_pipeline\n",
    "\n",
    "from utils import open_mnist_or_download_if_missing, shuffle_split\n",
    "\n",
    "%matplotlib inline\n",
    "\n",
    "RS = 33"
   ]
  },
  {
   "cell_type": "code",
   "execution_count": null,
   "id": "bb3b4bf2",
   "metadata": {},
   "outputs": [],
   "source": [
    "mnist = open_mnist_or_download_if_missing()"
   ]
  },
  {
   "cell_type": "code",
   "execution_count": null,
   "id": "19e4a8bf",
   "metadata": {},
   "outputs": [],
   "source": [
    "X_train, y_train, X_test, y_test = shuffle_split(mnist[\"data\"], mnist[\"target\"], 60000, RS)"
   ]
  },
  {
   "cell_type": "code",
   "execution_count": null,
   "id": "d6baa12f",
   "metadata": {},
   "outputs": [],
   "source": [
    "def time_action(func, *args, **kwargs):\n",
    "    start_time = time.time()\n",
    "    func(*args, **kwargs)\n",
    "    return time.time() - start_time\n",
    "\n",
    "def time_fit(clf, X, y):\n",
    "    return time_action(clf.fit, X, y)"
   ]
  },
  {
   "cell_type": "code",
   "execution_count": null,
   "id": "b7a5e3b0",
   "metadata": {},
   "outputs": [],
   "source": [
    "clf = RandomForestClassifier()\n",
    "time_fit(clf, X_train, y_train)"
   ]
  },
  {
   "cell_type": "code",
   "execution_count": null,
   "id": "9b3ac3a2",
   "metadata": {},
   "outputs": [],
   "source": [
    "accuracy_score(y_test, clf.predict(X_test))"
   ]
  },
  {
   "cell_type": "markdown",
   "id": "560b71ba",
   "metadata": {},
   "source": [
    "So random forest classifier took 25 seconds to fit with resulting accuracy of 0.9669\n",
    "\n",
    "Now let's see how it will do with PCA with explained variance ratio of 95%"
   ]
  },
  {
   "cell_type": "code",
   "execution_count": null,
   "id": "ecc87d05",
   "metadata": {},
   "outputs": [],
   "source": [
    "pipeline = make_pipeline(PCA(n_components=0.95), RandomForestClassifier())\n",
    "time_fit(pipeline, X_train, y_train)"
   ]
  },
  {
   "cell_type": "code",
   "execution_count": null,
   "id": "4ba0e93d",
   "metadata": {},
   "outputs": [],
   "source": [
    "accuracy_score(y_test, pipeline.predict(X_test))"
   ]
  },
  {
   "cell_type": "markdown",
   "id": "05b82efa",
   "metadata": {},
   "source": [
    "So, it is way slover, took more then 73 seconds and accuracy is a bit lower (expected I guess) - 0.9446"
   ]
  },
  {
   "cell_type": "markdown",
   "id": "90f6502a",
   "metadata": {},
   "source": [
    "# 10"
   ]
  },
  {
   "cell_type": "code",
   "execution_count": null,
   "id": "2a265e3a",
   "metadata": {},
   "outputs": [],
   "source": [
    "def reduce_and_plot(reductor):\n",
    "    \n",
    "    X2d = reductor.fit_transform(X_test)\n",
    "    \n",
    "    norm = Normalize()\n",
    "\n",
    "    plt.figure(figsize=(15, 15))\n",
    "    scatter = plt.scatter(X2d[:, 0], X2d[:, 1], c=y_test, norm=norm, cmap=\"gist_rainbow\")\n",
    "    plt.legend(*scatter.legend_elements())"
   ]
  },
  {
   "cell_type": "code",
   "execution_count": null,
   "id": "49c99b4b",
   "metadata": {},
   "outputs": [],
   "source": [
    "reduce_and_plot(TSNE())"
   ]
  },
  {
   "cell_type": "code",
   "execution_count": null,
   "id": "9ccbe59d",
   "metadata": {},
   "outputs": [],
   "source": [
    "reduce_and_plot(PCA())"
   ]
  },
  {
   "cell_type": "code",
   "execution_count": null,
   "id": "a354d936",
   "metadata": {},
   "outputs": [],
   "source": [
    "reduce_and_plot(MDS())"
   ]
  },
  {
   "cell_type": "code",
   "execution_count": null,
   "id": "4c6603e6",
   "metadata": {},
   "outputs": [],
   "source": [
    "reduce_and_plot(LocallyLinearEmbedding())"
   ]
  },
  {
   "cell_type": "code",
   "execution_count": null,
   "id": "5254b99a",
   "metadata": {},
   "outputs": [],
   "source": []
  }
 ],
 "metadata": {
  "kernelspec": {
   "display_name": "Python 3 (ipykernel)",
   "language": "python",
   "name": "python3"
  },
  "language_info": {
   "codemirror_mode": {
    "name": "ipython",
    "version": 3
   },
   "file_extension": ".py",
   "mimetype": "text/x-python",
   "name": "python",
   "nbconvert_exporter": "python",
   "pygments_lexer": "ipython3",
   "version": "3.10.2"
  }
 },
 "nbformat": 4,
 "nbformat_minor": 5
}