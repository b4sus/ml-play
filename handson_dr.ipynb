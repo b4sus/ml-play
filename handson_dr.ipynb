{
 "cells": [
  {
   "cell_type": "code",
   "execution_count": 33,
   "id": "6b072cca",
   "metadata": {},
   "outputs": [],
   "source": [
    "import time\n",
    "\n",
    "from sklearn.decomposition import PCA\n",
    "from sklearn.ensemble import RandomForestClassifier\n",
    "from sklearn.metrics import accuracy_score\n",
    "from sklearn.pipeline import make_pipeline\n",
    "\n",
    "from utils import open_mnist_or_download_if_missing, shuffle_split\n",
    "\n",
    "%matplotlib inline\n",
    "\n",
    "RS = 33"
   ]
  },
  {
   "cell_type": "code",
   "execution_count": 3,
   "id": "bb3b4bf2",
   "metadata": {},
   "outputs": [
    {
     "name": "stdout",
     "output_type": "stream",
     "text": [
      "Using local mnist\n"
     ]
    }
   ],
   "source": [
    "mnist = open_mnist_or_download_if_missing()"
   ]
  },
  {
   "cell_type": "code",
   "execution_count": 4,
   "id": "19e4a8bf",
   "metadata": {},
   "outputs": [],
   "source": [
    "X_train, y_train, X_test, y_test = shuffle_split(mnist[\"data\"], mnist[\"target\"], 60000, RS)"
   ]
  },
  {
   "cell_type": "code",
   "execution_count": 31,
   "id": "d6baa12f",
   "metadata": {},
   "outputs": [],
   "source": [
    "def time_action(func, *args, **kwargs):\n",
    "    start_time = time.time()\n",
    "    func(*args, **kwargs)\n",
    "    return time.time() - start_time\n",
    "\n",
    "def time_fit(clf, X, y):\n",
    "    return time_action(clf.fit, X, y)"
   ]
  },
  {
   "cell_type": "code",
   "execution_count": 10,
   "id": "b7a5e3b0",
   "metadata": {},
   "outputs": [
    {
     "data": {
      "text/plain": [
       "25.50989294052124"
      ]
     },
     "execution_count": 10,
     "metadata": {},
     "output_type": "execute_result"
    }
   ],
   "source": [
    "clf = RandomForestClassifier()\n",
    "time_fit(clf, X_train, y_train)"
   ]
  },
  {
   "cell_type": "code",
   "execution_count": 12,
   "id": "9b3ac3a2",
   "metadata": {},
   "outputs": [
    {
     "data": {
      "text/plain": [
       "0.9669"
      ]
     },
     "execution_count": 12,
     "metadata": {},
     "output_type": "execute_result"
    }
   ],
   "source": [
    "accuracy_score(y_test, clf.predict(X_test))"
   ]
  },
  {
   "cell_type": "markdown",
   "id": "560b71ba",
   "metadata": {},
   "source": [
    "So random forest classifier took 25 seconds to fit with resulting accuracy of 0.9669\n",
    "\n",
    "Now let's see how it will do with PCA with explained variance ratio of 95%"
   ]
  },
  {
   "cell_type": "code",
   "execution_count": 48,
   "id": "ecc87d05",
   "metadata": {},
   "outputs": [
    {
     "data": {
      "text/plain": [
       "73.97757411003113"
      ]
     },
     "execution_count": 48,
     "metadata": {},
     "output_type": "execute_result"
    }
   ],
   "source": [
    "pipeline = make_pipeline(PCA(n_components=0.95), RandomForestClassifier())\n",
    "time_fit(pipeline, X_train, y_train)"
   ]
  },
  {
   "cell_type": "code",
   "execution_count": 51,
   "id": "4ba0e93d",
   "metadata": {},
   "outputs": [
    {
     "data": {
      "text/plain": [
       "0.9446"
      ]
     },
     "execution_count": 51,
     "metadata": {},
     "output_type": "execute_result"
    }
   ],
   "source": [
    "accuracy_score(y_test, pipeline.predict(X_test))"
   ]
  },
  {
   "cell_type": "markdown",
   "id": "05b82efa",
   "metadata": {},
   "source": [
    "So, it is way slover, took more then 73 seconds and accuracy is a bit lower (expected I guess) - 0.9446"
   ]
  },
  {
   "cell_type": "code",
   "execution_count": null,
   "id": "ae1c3593",
   "metadata": {},
   "outputs": [],
   "source": []
  }
 ],
 "metadata": {
  "kernelspec": {
   "display_name": "Python 3 (ipykernel)",
   "language": "python",
   "name": "python3"
  },
  "language_info": {
   "codemirror_mode": {
    "name": "ipython",
    "version": 3
   },
   "file_extension": ".py",
   "mimetype": "text/x-python",
   "name": "python",
   "nbconvert_exporter": "python",
   "pygments_lexer": "ipython3",
   "version": "3.10.2"
  }
 },
 "nbformat": 4,
 "nbformat_minor": 5
}
